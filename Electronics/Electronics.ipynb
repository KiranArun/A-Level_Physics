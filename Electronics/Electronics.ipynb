{
 "cells": [
  {
   "cell_type": "markdown",
   "metadata": {
    "deletable": true,
    "editable": true
   },
   "source": [
    "# Electronics"
   ]
  },
  {
   "cell_type": "markdown",
   "metadata": {
    "collapsed": true,
    "deletable": true,
    "editable": true
   },
   "source": [
    "### Conduction \n",
    "\n",
    "### $\\Delta Q = I\\Delta t$\n",
    "\n",
    "where Q = Coulombs(C)\n",
    "Coulombs = charge flow in 1 second when I = 1\n",
    "\n",
    "where I = Current(I)\n",
    "\n",
    "eg. 5A in 3s = 15C"
   ]
  },
  {
   "cell_type": "markdown",
   "metadata": {},
   "source": [
    "## Potential Difference\n",
    "\n",
    "unit is volt\n",
    "volt = 1 joule / coulomb\n",
    "\n",
    "### $V=\\frac {W}{Q}$\n",
    "\n",
    "where W = work done\n",
    "\n",
    "eg. if 20 joules of work done when 4C passes\n",
    "V = 5"
   ]
  },
  {
   "cell_type": "markdown",
   "metadata": {},
   "source": []
  }
 ],
 "metadata": {
  "kernelspec": {
   "display_name": "Python 2",
   "language": "python",
   "name": "python2"
  },
  "language_info": {
   "codemirror_mode": {
    "name": "ipython",
    "version": 2
   },
   "file_extension": ".py",
   "mimetype": "text/x-python",
   "name": "python",
   "nbconvert_exporter": "python",
   "pygments_lexer": "ipython2",
   "version": "2.7.6"
  }
 },
 "nbformat": 4,
 "nbformat_minor": 1
}
