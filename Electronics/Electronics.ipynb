{
 "cells": [
  {
   "cell_type": "markdown",
   "metadata": {},
   "source": [
    "# Electronics"
   ]
  },
  {
   "cell_type": "markdown",
   "metadata": {
    "collapsed": true
   },
   "source": [
    "### Conduction \n",
    "\n",
    "#### $\\Delta Q = I\\Delta t$\n",
    "\n",
    "where Q = Coulombs(C)\n",
    "\n",
    "where I = Current(I)\n",
    "\n",
    "eg. 5A in 3s = 15C"
   ]
  },
  {
   "cell_type": "markdown",
   "metadata": {},
   "source": [
    "### Potential Difference\n",
    "\n",
    "unit is volt\n",
    "volt = 1 joule / coulomb\n",
    "\n",
    "#### $V=\\frac {W}{Q}$\n",
    "\n",
    "where W = work done\n",
    "\n",
    "eg. if 20 joules of work done when 4C of charge passes\n",
    "V = 5"
   ]
  },
  {
   "cell_type": "markdown",
   "metadata": {},
   "source": [
    "### Electrical Power and Current\n",
    "\n",
    "#### Equation  to find work done:\n",
    "\n",
    "$\\Delta Q = I\\Delta t$ and $W = QV$\n",
    "\n",
    "####  $\\therefore$  $W = (I\\Delta t)V$\n",
    "\n",
    "simplified:\n",
    "#### $W = IV\\Delta t$"
   ]
  },
  {
   "cell_type": "markdown",
   "metadata": {},
   "source": [
    "#### Power Equation:\n",
    "$\\Delta E = W$\n",
    "\n",
    "With E as energy and W as work done\n",
    "\n",
    "#### $P = \\frac{E}{t}$\n",
    "\n",
    "With P as power in Watts\n",
    "\n",
    "#### $\\therefore$ $P = \\frac{IV\\Delta t}{\\Delta t}$\n",
    "\n",
    "simplified: $P = IV$"
   ]
  },
  {
   "cell_type": "markdown",
   "metadata": {},
   "source": [
    "### Resistance\n",
    "\n",
    "#### $R = \\frac{V}{I}$\n",
    "\n",
    "with R as resistance in ohms($\\Omega $)"
   ]
  },
  {
   "cell_type": "markdown",
   "metadata": {},
   "source": [
    "#### Ohm's law states that the voltage across a metallic conductor is proportional to the currnet throught it, providedthe physical conditions don't change.\n",
    "\n",
    "This means that the resistance does not change due to the equation $R = \\frac{V}{I}$\n",
    "\n",
    "The resistance is equal to the gradient of a graph with Current on x-axis and Voltage on the y-axis and the inverse for  the oppisate"
   ]
  },
  {
   "cell_type": "markdown",
   "metadata": {},
   "source": [
    "### Resistivity\n",
    "\n",
    "In a Conductor where L = length and A = cross-sectional area\n",
    "\n",
    "R is proportional to L\n",
    "R is inversely-proportional to A\n",
    "\n",
    "### $\\therefore$ $R = \\frac{\\rho L}{A}$\n",
    "\n",
    "where $\\rho =$ resistivity($\\Omega m$)\n",
    "\n",
    "rearranged:\n",
    "### $\\rho = \\frac{RA}{L}$"
   ]
  },
  {
   "cell_type": "markdown",
   "metadata": {},
   "source": [
    "### Superconductivity\n",
    "\n",
    "A Superconductor is a device made from a material which has a resistivity of zero when below the critical temperature (which is relative to the material). \n",
    "\n",
    "It loses its superconductivity when the temperature is raised aove the critical temperature. If the critical temperature is above 77K (-196&deg;c) or the boiling point of liquid nitrogen it is considered a high temperature superconductor.\n",
    "\n",
    "They are used for making high-power electromagnets for things like MRI scanners, particel accelerators and other things that require a super strong magnetic field without dissapation."
   ]
  },
  {
   "cell_type": "markdown",
   "metadata": {},
   "source": [
    "### Circuit components\n",
    "\n"
   ]
  },
  {
   "cell_type": "code",
   "execution_count": null,
   "metadata": {
    "collapsed": true
   },
   "outputs": [],
   "source": []
  }
 ],
 "metadata": {
  "kernelspec": {
   "display_name": "Python 3",
   "language": "python",
   "name": "python3"
  },
  "language_info": {
   "codemirror_mode": {
    "name": "ipython",
    "version": 3
   },
   "file_extension": ".py",
   "mimetype": "text/x-python",
   "name": "python",
   "nbconvert_exporter": "python",
   "pygments_lexer": "ipython3",
   "version": "3.5.2"
  }
 },
 "nbformat": 4,
 "nbformat_minor": 1
}
