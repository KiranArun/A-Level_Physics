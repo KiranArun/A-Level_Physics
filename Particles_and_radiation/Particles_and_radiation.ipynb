{
 "cells": [
  {
   "cell_type": "markdown",
   "metadata": {},
   "source": [
    "# Particles and Radiation"
   ]
  },
  {
   "cell_type": "markdown",
   "metadata": {},
   "source": [
    "## Matter and Radiation"
   ]
  },
  {
   "cell_type": "markdown",
   "metadata": {},
   "source": [
    "### Inside the Atom\n",
    "\n",
    "nb: P = proton, N = neutron, E = electron"
   ]
  },
  {
   "cell_type": "markdown",
   "metadata": {},
   "source": [
    "#### Atoms contain:\n",
    "- nucleus - posivtly charged protons and neutrons\n",
    "- electrons - negativly charged\n",
    "\n",
    "**nucleon**: proton/neutron inside nucleus\n",
    "\n",
    "|          | Charge/C(............)| C RTP                | Mass/kg(............)| Mass RTP                |\n",
    "|----------|-----------------------|----------------------|----------------------|-------------------------|\n",
    "| proton   | $+1.60\\times10^{-19}$ | $1$                  | $1.67\\times10^{-27}$ | $1$                     |\n",
    "| neutron  | $0$                   | $0$                  | $1.67\\times10^{-27}$ | $1$                     |\n",
    "| electron | $-1.60\\times10^{-19}$ | $-1$                 | $9.11\\times10^{-31}$ | $0.0005$                |\n"
   ]
  },
  {
   "cell_type": "markdown",
   "metadata": {},
   "source": [
    "#### Isotopes:\n",
    "\n",
    "###### Isotopes are atoms with the same number of protons but a different number of neutrons\n",
    "\n",
    "$^A_ZX$\n",
    "\n",
    "- $A =$ **nucleon/mass number**\n",
    "- $A =$ protons+neutrons\n",
    "- $Z =$ **proton/atomic number**\n",
    "- $Z =$ protons\n",
    "- $X =$ element symbol\n",
    "\n",
    "nuclide: an atom charactarized by its nucleus"
   ]
  },
  {
   "cell_type": "markdown",
   "metadata": {},
   "source": [
    "#### Specific Charge:\n",
    "\n",
    "Specific Charge of charged particle: $\\frac{charge}{mass}$\n",
    "\n",
    "#### Proton Example:\n",
    "\n",
    "$charge = 1.60\\times10^{-19}$\n",
    "\n",
    "$mass = 1.67\\times10^{-27}$\n",
    "\n",
    "$\\frac{charge}{mass} = 9.58\\times10^{7}Ckg^{-1}$\n",
    "\n",
    "#### Electron Example:\n",
    "\n",
    "$charge = -1.60\\times10^{-19}$\n",
    "\n",
    "$mass = 9.11\\times10^{-31}$\n",
    "\n",
    "$\\frac{charge}{mass} = -1.76\\times10^{11}Ckg^{-1}$\n",
    "\n",
    "#### Nuclei Example:\n",
    "\n",
    "$^{16}_{8}O$\n",
    "\n",
    "$charge = 1.2\\times10^{-18}$\n",
    "\n",
    "$mass = 2.67\\times10^{-26}$\n",
    "\n",
    "$\\frac{charge}{mass} = 4.49\\times10^{7}Ckg^{-1}$\n",
    "\n",
    "#### Ion Example:\n",
    "\n",
    "$[^{24}_{12}Mg]^{+2}$\n",
    "\n",
    "$charge = 3.20\\times10^{-19}$\n",
    "\n",
    "$mass = 3.98\\times10^{-26}$\n",
    "\n",
    "$\\frac{charge}{mass} = 8.04\\times10^{6}Ckg^{-1}$"
   ]
  },
  {
   "cell_type": "markdown",
   "metadata": {},
   "source": [
    "### Stable and Unstable Nuclei"
   ]
  },
  {
   "cell_type": "markdown",
   "metadata": {},
   "source": [
    "#### The Strong Nuclear Force\n",
    "\n",
    "The Strong Nuclear Force holds together the nuclei in a stable isotope so it doesn't disintegrate.\n",
    "\n",
    "The Strong Nuclear Force overcomes the electrostatic repulsion between the protons.\n",
    "\n",
    "Info:\n",
    "- max range = 3-4 femtometres(fm)\n",
    "- min range = 0.5 fm (it becomes a repulsive force to prevent P/N from being pushed together)\n",
    "- same effect between P-P, P-N, N-N"
   ]
  },
  {
   "cell_type": "markdown",
   "metadata": {},
   "source": [
    "#### Radioactive Decay\n",
    "\n",
    "##### 3 Types of Radiation:\n",
    " \n",
    "##### 1.Alpha radiation\n",
    "  - alpha particle = 2P + 2N\n",
    "  - symbol = $^4_2\\alpha$\n",
    "  - when alpha particle emitted from unstable nucleus of element X, X's mass number, $A$, decreases by 4 and atomic number, $Z$, decreases by 2\n",
    "  - X's product nucleus also now belongs to a different element Y\n",
    "  - $^A_ZX=^{A-4}_{Z-2}Y+^4_2\\alpha$\n",
    "  \n",
    "  \n",
    "##### 2.Beta radiaton\n",
    "  - consists of fast moving electrons\n",
    "  - E as beta particle symbol = $\\beta^-$ or $^{0}_{-1}\\beta$\n",
    "  - charge = -proton charge (but with much less mass)\n",
    "  - created when neutron $\\to$ proton in an unstable nucleus, emitted instantly\n",
    "  - also an antiparticle, called an anineutrino($\\bar{v}$), is emitted (no charge)\n",
    "  - atomic number += 1\n",
    "  - product nucleus belongs to different element Y\n",
    "  - $^A_ZX=^{A}_{Z+1}Y+^0_{-1}\\beta+\\bar{v}$\n",
    "  \n",
    "    \n",
    "##### 3.Gamma radiation\n",
    "  - electromagnetic radiation emitted by unstable nucleus\n",
    "  - no mass, no charge\n",
    "  - can pass through thick metal\n",
    "  - emitted by nucleus with too much energy, after an $\\alpha$ or $\\beta$ emmision\n",
    "  "
   ]
  },
  {
   "cell_type": "markdown",
   "metadata": {},
   "source": [
    "### Photons"
   ]
  },
  {
   "cell_type": "markdown",
   "metadata": {},
   "source": [
    "##### Electromagnetic Waves\n",
    "\n",
    "- electromagnetic spectrum of elctromagnetic waves\n",
    "- in vacuum, all electromagnnetic waves travel at speed of light, $c = (3\\times10^{8}ms^{-1})$\n",
    "- electromagnetic radiation in vacuum $\\lambda=\\frac{c}{f}$ where $\\lambda$ = wavelength, $f$ = frequency\n",
    "- expressed as nanometres(nm) = $10^{-9}$m\n",
    "\n",
    "##### contents\n",
    "\n",
    "- electric wave\n",
    "- magnetic wave\n",
    "- they travel perpendicular to each other and the way they're travelling\n",
    "- they are in phase with each other (peak at same times)\n",
    "\n",
    "| Type             | radio | microwave | infared   | visable     | ultraviolet | X-rays       | gamma rays |\n",
    "|:------------------|:-------|:-----------|:-----------|:-------------|:-------------|:--------------|:-----------|\n",
    "| Wavelength range | >0.1m | 0.1m-1mm  | 1mm-700nm | 700nm-400nm | 400nm-1nm   | 10nm-0.001nm | <1nm       |"
   ]
  },
  {
   "cell_type": "markdown",
   "metadata": {},
   "source": [
    "#### Photons\n",
    "\n",
    "When charged particle loses energy, it emits an electromagnetic wave.\n",
    "\n",
    "Happens when:\n",
    "- fast-moving electron stops or slows down or changes direction (eg, in X-ray tube)\n",
    "- electron in shell of atom moves into different shell of lower energy\n",
    "\n",
    "##### Info:\n",
    "- waves emitted as short bursts\n",
    "- waves leave source in different directions\n",
    "- each burst is a packet of electromagnetic waves, refferedto as a **Photon**\n",
    "\n",
    "##### Photon info:\n",
    "- theory, by Einstein in 1905\n",
    "- used idea to explain **photoelectric effect** (emission of electrons from metal surface when light is directed at surface)\n",
    "- where E = photon energy, f = frequency, h = planck constant($6.63\\times10^{-34}Js$)\n",
    "- $E = hf$\n",
    "\n",
    "#### Lazer power\n",
    "\n",
    "- lazer beam consists of photons at same frequency\n",
    "- power is energy/second transferred by protons\n",
    "- where n = number of photons passing a fixed point each second\n",
    "- beam power $= nhf$"
   ]
  },
  {
   "cell_type": "markdown",
   "metadata": {},
   "source": [
    "### Particles and antiparticles"
   ]
  },
  {
   "cell_type": "markdown",
   "metadata": {},
   "source": [
    "#### Antimatter\n",
    "\n",
    "When antimatter and matter particles meet, they destroy eachother and release radiation.\n",
    "\n",
    "**Positron:** antiparticle of electron\n",
    "\n",
    "###### Positron emitting tomography (PET) hospital scanner:\n",
    "- positron-emitting isotope dispensed (some reaches brain through blood)\n",
    "- positrons meet electrons mms and destroy each other\n",
    "- they also produce 2 gamma photons\n",
    "- gamma photons sensed by machine\n",
    "- image built based on signals of positron-emitting nuclei\n",
    "\n",
    "##### Positron emission (oppisate to beta radiation):\n",
    "- when proton$\\to$neutron in unstable nucleus with too many protons\n",
    "- positron, symbol $^0_{+1}\\beta$ or $\\beta^+$, is antiparticle of electron\n",
    "- neutrino, symbol = $v$, also emitted (no charge)\n",
    "- $^A_ZX=^{A}_{Z-1}Y+^0_{+1}\\beta+v$\n",
    "\n",
    "##### Positron-emitting isotopes:\n",
    "- dont occur naturally\n",
    "- manufactured by placing stable isotope in the path of a beam of protons\n",
    "- isotope in solid or liquid form\n",
    "- some nuclei absorb extra protons $\\therefore$ become positron-emitters\n",
    "\n",
    "##### Extra info:\n",
    "- mass of particle increases the faster it travels\n",
    "- $E = mc^2$ relates energy supplied to increase in mass\n",
    "- rest mass ($m_0$), corresponds to **rest energy** ($m_0c^2$) locked up as mass\n",
    "- the rest energy must be included in the conservation of energy\n",
    "- antimatter(antiparticles) would unlock rest energy when particle and antiparticle meet and destroy\n",
    "\n",
    "##### Diracs antiparticle theory:\n",
    "- for every particle, there is anti particle\n",
    "- antiparticle annihilates particle and itself when they meet\n",
    "- converts mass into photons\n",
    "- same rest mass as particle\n",
    "- oppisate charge to particle\n",
    "- has oppisate process called pair production\n",
    "- where photon, with sufficient energy, passing an electron/nucleus can seperate into a particle-antiparticle pair"
   ]
  },
  {
   "cell_type": "markdown",
   "metadata": {},
   "source": [
    "#### Particles, antiparticles and $E = mc^2$\n",
    "\n",
    "##### Energy of Particle:\n",
    "- electron volts (MeV), $1MeV = 1.60\\times10^{-13}J$\n",
    "- MeV defined as energy transferred when electron is moved through 1V\n",
    "- given rest mass, rest energy can be calculated with $E = mc^2$\n",
    "\n",
    "##### Annihilation:\n",
    "- particle and corresponding antiparticle meet\n",
    "- mass converted into radiation energy\n",
    "- 2 photons produces (1 cant ensure momentum = 0 after collision)\n",
    "- total min energy = total rest enery ($2hf_{min} = 2E_0$)\n",
    "- min energy of each photon, $hf_{min} = E_0$\n",
    "\n",
    "##### Pair Production:\n",
    "- photon creates particle and corresponding antiparticle\n",
    "- photon dissapears\n",
    "- given the rest energy of particle/antiparticle\n",
    "- can calculate $f_{min}$ and min energy required from photon\n",
    "- min energy of photon needed, $hf_{min} = 2E_0$\n",
    "- eg. electron rest energy = 0.511 MeV\n",
    "\n",
    "$hf_{min} = 2\\times0.511$\n",
    "\n",
    "$hf_{min} = 1.022MeV$\n",
    "\n",
    "$hf_{min} = 1.64\\times10^{-13}J$\n",
    "\n",
    "$f_{min} = 2.47\\times10^{20}J$"
   ]
  }
 ],
 "metadata": {
  "kernelspec": {
   "display_name": "Python 2",
   "language": "python",
   "name": "python2"
  },
  "language_info": {
   "codemirror_mode": {
    "name": "ipython",
    "version": 2
   },
   "file_extension": ".py",
   "mimetype": "text/x-python",
   "name": "python",
   "nbconvert_exporter": "python",
   "pygments_lexer": "ipython2",
   "version": "2.7.12"
  }
 },
 "nbformat": 4,
 "nbformat_minor": 2
}
