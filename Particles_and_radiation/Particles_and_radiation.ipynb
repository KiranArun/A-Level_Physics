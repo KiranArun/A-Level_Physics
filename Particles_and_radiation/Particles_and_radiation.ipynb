{
 "cells": [
  {
   "cell_type": "markdown",
   "metadata": {},
   "source": [
    "# Particles and Radiation"
   ]
  },
  {
   "cell_type": "markdown",
   "metadata": {},
   "source": [
    "## Matter and Radiation"
   ]
  },
  {
   "cell_type": "markdown",
   "metadata": {},
   "source": [
    "### Inside the Atom\n",
    "\n",
    "nb: P = proton, N = neutron, E = electron"
   ]
  },
  {
   "cell_type": "markdown",
   "metadata": {},
   "source": [
    "#### Atoms contain:\n",
    "- nucleus - positively charged protons and neutrons\n",
    "- electrons - negatively charged\n",
    "\n",
    "**nucleon**: proton/neutron inside nucleus\n",
    "\n",
    "|          | Charge/C              | Charge RTP           | Mass/kg              | Mass RTP                |\n",
    "|----------|-----------------------|----------------------|----------------------|-------------------------|\n",
    "| proton   | $+1.60\\times10^{-19}$ | $1$                  | $1.67\\times10^{-27}$ | $1$                     |\n",
    "| neutron  | $0$                   | $0$                  | $1.67\\times10^{-27}$ | $1$                     |\n",
    "| electron | $-1.60\\times10^{-19}$ | $-1$                 | $9.11\\times10^{-31}$ | $0.0005$                |\n",
    "|----------|-----------------------|----------------------|----------------------|-------------------------|\n",
    "\n",
    "RTB = relative to proton"
   ]
  },
  {
   "cell_type": "markdown",
   "metadata": {},
   "source": [
    "#### Isotopes:\n",
    "\n",
    "###### Isotopes are atoms with the same number of protons but a different number of neutrons\n",
    "\n",
    "$^A_ZX$\n",
    "\n",
    "- $A =$ **nucleon/mass number**\n",
    "- $A =$ protons+neutrons\n",
    "- $Z =$ **proton/atomic number**\n",
    "- $Z =$ protons\n",
    "- $X =$ element symbol\n",
    "\n",
    "nuclide: an atom characterized by its nucleus"
   ]
  },
  {
   "cell_type": "markdown",
   "metadata": {},
   "source": [
    "#### Specific Charge:\n",
    "\n",
    "Specific Charge of charged particle: $\\frac{charge}{mass}$\n",
    "\n",
    "#### Proton Example:\n",
    "\n",
    "$charge = 1.60\\times10^{-19}$\n",
    "\n",
    "$mass = 1.67\\times10^{-27}$\n",
    "\n",
    "$\\frac{charge}{mass} = 9.58\\times10^{7}Ckg^{-1}$\n",
    "\n",
    "#### Electron Example:\n",
    "\n",
    "$charge = -1.60\\times10^{-19}$\n",
    "\n",
    "$mass = 9.11\\times10^{-31}$\n",
    "\n",
    "$\\frac{charge}{mass} = -1.76\\times10^{11}Ckg^{-1}$\n",
    "\n",
    "#### Nuclei Example:\n",
    "\n",
    "$^{16}_{8}O$\n",
    "\n",
    "$charge = 1.2\\times10^{-18}$\n",
    "\n",
    "$mass = 2.67\\times10^{-26}$\n",
    "\n",
    "$\\frac{charge}{mass} = 4.49\\times10^{7}Ckg^{-1}$\n",
    "\n",
    "#### Ion Example:\n",
    "\n",
    "$[^{24}_{12}Mg]^{+2}$\n",
    "\n",
    "$charge = 3.20\\times10^{-19}$\n",
    "\n",
    "$mass = 3.98\\times10^{-26}$\n",
    "\n",
    "$\\frac{charge}{mass} = 8.04\\times10^{6}Ckg^{-1}$"
   ]
  },
  {
   "cell_type": "markdown",
   "metadata": {},
   "source": [
    "### Stable and Unstable Nuclei"
   ]
  },
  {
   "cell_type": "markdown",
   "metadata": {},
   "source": [
    "#### The Strong Nuclear Force\n",
    "\n",
    "The Strong Nuclear Force holds together the nuclei in a stable isotope so it doesn't disintegrate.\n",
    "\n",
    "The Strong Nuclear Force overcomes the electrostatic repulsion between the protons.\n",
    "\n",
    "Info:\n",
    "- max range = 3-4 femtometres(fm)\n",
    "- min range = 0.5 fm (it becomes a repulsive force to prevent P/N from being pushed together)\n",
    "- same effect between P-P, P-N, N-N"
   ]
  },
  {
   "cell_type": "markdown",
   "metadata": {},
   "source": [
    "#### Radioactive Decay\n",
    "\n",
    "##### 3 Types of Radiation:\n",
    " \n",
    "##### 1.Alpha radiation  ($\\alpha$)\n",
    "  - alpha particle = 2P + 2N\n",
    "  - symbol = $^4_2\\alpha$\n",
    "  - when alpha particle emitted from unstable nucleus of element X, X's mass number, $A$, decreases by 4 and atomic number, $Z$, decreases by 2\n",
    "  - X's product nucleus also now belongs to a different element Y\n",
    "  - $^A_ZX=^{A-4}_{Z-2}Y+^4_2\\alpha$\n",
    "  \n",
    "  \n",
    "##### 2.Beta radiaton ($\\beta$)\n",
    "  - consists of fast moving electrons\n",
    "  - E as beta particle symbol = $\\beta^-$ or $^{0}_{-1}\\beta$ (can use $e^-$)\n",
    "  - charge = -proton charge (but with much less mass)\n",
    "  - created when neutron $\\to$ proton in an unstable nucleus, emitted instantly\n",
    "  - also an antiparticle, called an antineutrino($\\bar{v}$), is emitted (no charge)\n",
    "  - atomic number += 1\n",
    "  - product nucleus belongs to different element Y\n",
    "  - $^A_ZX=^{A}_{Z+1}Y+^0_{-1}\\beta+\\bar{v}$\n",
    "  \n",
    "    \n",
    "##### 3.Gamma radiation  ($\\gamma$)\n",
    "  - electromagnetic radiation emitted by unstable nucleus\n",
    "  - no mass, no charge\n",
    "  - can pass through thick metal\n",
    "  - emitted by nucleus with too much energy, after an $\\alpha$ or $\\beta$ emission\n",
    "  "
   ]
  },
  {
   "cell_type": "markdown",
   "metadata": {},
   "source": [
    "### Photons"
   ]
  },
  {
   "cell_type": "markdown",
   "metadata": {},
   "source": [
    "##### Electromagnetic Waves\n",
    "\n",
    "- electromagnetic spectrum of electromagnetic waves\n",
    "- in vacuum, all electromagnetic waves travel at speed of light, $c = (3\\times10^{8}ms^{-1})$\n",
    "- electromagnetic radiation in vacuum $\\lambda=\\frac{c}{f}$ where $\\lambda$ = wavelength, $f$ = frequency\n",
    "- expressed as nanometres(nm) = $10^{-9}$m\n",
    "\n",
    "##### contents\n",
    "\n",
    "- electric wave\n",
    "- magnetic wave\n",
    "- they travel perpendicular to each other and the way they're travelling\n",
    "- they are in phase with each other (peak at same times)\n",
    "\n",
    "| Type             | radio | microwave | infrared  | visible     | ultraviolet | X-rays       | gamma rays |\n",
    "|:-----------------|:------|:----------|:----------|:------------|:------------|:-------------|:-----------|\n",
    "| Wavelength range | >0.1m | 0.1m-1mm  | 1mm-700nm | 700nm-400nm | 400nm-1nm   | 10nm-0.001nm | <1nm       |"
   ]
  },
  {
   "cell_type": "markdown",
   "metadata": {},
   "source": [
    "#### Photons\n",
    "\n",
    "When charged particle loses energy, it emits an electromagnetic wave.\n",
    "\n",
    "Happens when:\n",
    "- fast-moving electron stops or slows down or changes direction (eg, in X-ray tube)\n",
    "- electron in shell of atom moves into different shell of lower energy\n",
    "\n",
    "##### Info:\n",
    "- waves emitted as short bursts\n",
    "- waves leave source in different directions\n",
    "- each burst is a packet of electromagnetic waves, referred to as a **Photon**\n",
    "\n",
    "##### Photon info:\n",
    "- theory, by Einstein in 1905\n",
    "- used idea to explain **photoelectric effect** (emission of electrons from metal surface when light is directed at surface)\n",
    "- where E = photon energy, f = frequency, h = planck constant($6.63\\times10^{-34}Js$)\n",
    "- $E = hf$\n",
    "- $E = \\frac{hc}{\\lambda}$\n",
    "\n",
    "#### Laser power\n",
    "\n",
    "- laser beam consists of photons at same frequency\n",
    "- power is energy/second transferred by protons\n",
    "- where n = number of photons passing a fixed point each second\n",
    "- beam power $= nhf$"
   ]
  },
  {
   "cell_type": "markdown",
   "metadata": {},
   "source": [
    "### Particles and antiparticles"
   ]
  },
  {
   "cell_type": "markdown",
   "metadata": {},
   "source": [
    "##### For every particle, there is an antiparticle\n",
    "\n",
    "#### Antimatter\n",
    "\n",
    "- same rest mass as particle\n",
    "- opposite charge to particle\n",
    "- annihilation happens when they particle/antiparticle meet which converts mass into photons\n",
    "- has opposite process called pair production\n",
    "\n",
    "**Positron:** antiparticle of electron\n",
    "\n",
    "###### Positron emitting tomography (PET) hospital scanner:\n",
    "- positron-emitting isotope dispensed (some reaches brain through blood)\n",
    "- positrons meet electrons mms and destroy each other\n",
    "- they also produce 2 gamma photons\n",
    "- gamma photons sensed by machine\n",
    "- image built based on signals of positron-emitting nuclei\n",
    "\n",
    "##### Positron emission (opposite to beta radiation):\n",
    "- when proton$\\to$neutron in unstable nucleus with too many protons\n",
    "- positron, symbol $^0_{+1}\\beta$ or $\\beta^+$, is antiparticle of electron (can use $e^+$)\n",
    "- neutrino, symbol = $v$, also emitted (no charge)\n",
    "- $^A_ZX=^{A}_{Z-1}Y+^0_{+1}\\beta+v$\n",
    "\n",
    "##### Positron-emitting isotopes:\n",
    "- dont occur naturally\n",
    "- manufactured by placing stable isotope in the path of a beam of protons\n",
    "- isotope in solid or liquid form\n",
    "- some nuclei absorb extra protons $\\therefore$ become positron-emitters\n",
    "\n",
    "##### Extra info:\n",
    "- mass of particle increases the faster it travels\n",
    "- $E = mc^2$ relates energy supplied to increase in mass\n",
    "- rest mass ($m_0$), corresponds to **rest energy** ($m_0c^2$) locked up as mass\n",
    "- the rest energy must be included in the conservation of energy\n",
    "- antimatter(antiparticles) would unlock rest energy when particle and antiparticle meet and destroy"
   ]
  },
  {
   "cell_type": "markdown",
   "metadata": {},
   "source": [
    "#### Particles, antiparticles and $E = mc^2$\n",
    "\n",
    "##### Energy of Particle:\n",
    "- electron volts (MeV), $1MeV = 1.60\\times10^{-13}J$\n",
    "- MeV defined as energy transferred when electron is moved through 1V\n",
    "- given rest mass, rest energy can be calculated with $E = mc^2$\n",
    "\n",
    "##### Annihilation:\n",
    "- particle and corresponding antiparticle meet\n",
    "- mass converted into radiation energy\n",
    "- 2 photons produces (1 can't ensure momentum = 0 after collision)\n",
    "- total min energy = total rest enery ($2hf_{min} = 2E_0$)\n",
    "- min energy of each photon, $hf_{min} = E_0$\n",
    "\n",
    "<img src=\"img/annihilation.png\" alt=\"annihilation_diagram\" style=\"width: 300px;\"/>\n",
    "\n",
    "##### Pair Production:\n",
    "- photon creates particle and corresponding antiparticle\n",
    "- photon disappears\n",
    "- given the rest energy of particle/antiparticle\n",
    "- can calculate $f_{min}$ and min energy required from photon\n",
    "- min energy of photon needed, $hf_{min} = 2E_0$\n",
    "- eg. electron rest energy = 0.511 MeV\n",
    "\n",
    "$hf_{min} = 2\\times0.511$\n",
    "\n",
    "$hf_{min} = 1.022MeV$\n",
    "\n",
    "$hf_{min} = 1.64\\times10^{-13}J$\n",
    "\n",
    "$f_{min} = 2.47\\times10^{20}J$\n",
    "\n",
    "<img src=\"img/pair_production.png\" alt=\"pair production\" style=\"width: 300px;\"/>"
   ]
  },
  {
   "cell_type": "markdown",
   "metadata": {},
   "source": [
    "### Particle Interactions"
   ]
  },
  {
   "cell_type": "markdown",
   "metadata": {},
   "source": [
    "Four fundamental interactions: gravity, electromagnetic, weak nuclear, strong nuclear\n",
    "\n",
    "##### Fundamental Interactions:\n",
    "- gravitational interaction\n",
    "- electromagnetic interaction\n",
    "- weak nuclear interaction (aka. weak interaction)\n",
    "- strong nuclear interaction (aka. strong interaction)"
   ]
  },
  {
   "cell_type": "markdown",
   "metadata": {},
   "source": [
    "#### Electromagnetic Force\n",
    "\n",
    "- due to exchange of virtual photons\n",
    "- when charged objects approach\n",
    "- can repel or attract due newtons 3rd law and momentum\n",
    "- the emitting object looses momentum in the direction towards the other\n",
    "- the receiving object gains momentum in the same direction, which is opposite the other object\n",
    "- or other way around to attract\n",
    "\n",
    "<img src=\"img/Feynman-diagram.png\" alt=\"Feynman Diagram\" style=\"width: 300px;\"/>"
   ]
  },
  {
   "cell_type": "markdown",
   "metadata": {},
   "source": [
    "#### The Weak Nuclear Force\n",
    "\n",
    "The weak nuclear force can change neutrons into protons and protons into neutrons.\n",
    "\n",
    "In $\\beta^-$ or $\\beta^+$ decay:\n",
    "- an electron or positron is created\n",
    "- a antineutrino or a neutrino is created\n",
    "\n",
    "##### Neutrinos and Antineutrinos hardly interact with particles, but they can:\n",
    "\n",
    "- neutrino can make neutron$\\to$proton and emit $\\beta^-$\n",
    "- antineutrino can make proton$\\to$neutron and emit $\\beta^+$\n",
    "\n",
    "<img src=\"img/wnf-p-n.jpg\" alt=\"weak_nuclear_force\" style=\"width: 200px; float: middle;\"/>\n",
    "<img src=\"img/wnf-n-n.jpg\" alt=\"weak_nuclear_force\" style=\"width: 260px; float: middle;\"/>\n",
    "\n",
    "Due to exchange of **W bosons** particles\n",
    "##### W bosons:\n",
    "- rest mass != 0\n",
    "- short range, $<0.001fm$\n",
    "- $W^+$ boson or $W^-$ boson\n",
    "\n",
    "##### If neutrino or antineutrino = None\n",
    "\n",
    "- neutron$\\to$proton and emitt $\\beta^-$ and $\\bar{v}$\n",
    "- proton$\\to$neutron and emitt $\\beta^+$ and $v$\n",
    "\n",
    "<img src=\"img/beta_negative_decay.png\" alt=\"Beta_Negative_Decay\" style=\"width: 200px;\"/>\n",
    "<img src=\"img/beta_plus_decay.jpg\" alt=\"Beta_positive_Decay\" style=\"width: 160px;\"/>"
   ]
  },
  {
   "cell_type": "markdown",
   "metadata": {},
   "source": [
    "#### Electron Capture\n",
    "\n",
    "- proton in proton rich nucleus\n",
    "- proton$\\to$neutron\n",
    "- through weak interaction with inner shell electron\n",
    "- $W^+$ boson changes electron$\\to$neutrino\n",
    "- can happen outside when P and E collide at high speed\n",
    "- if electron has enough energy, $W^-$ exchange from electron to proton\n",
    "\n",
    "Electron capture:\n",
    "<img src=\"img/electron_capture.jpg\" alt=\"Beta_Negative_Decay\" style=\"width: 200px;\"/>\n",
    "\n",
    "##### Force Carriers: particles exchanged  when forces act\n",
    "- also exchange particles\n",
    "- eg. $W^+$ boson or $W^-$ boson in weak interaction"
   ]
  },
  {
   "cell_type": "markdown",
   "metadata": {
    "collapsed": true
   },
   "source": [
    "## Quarks and Leptons"
   ]
  },
  {
   "cell_type": "markdown",
   "metadata": {},
   "source": [
    "### Classifying Particles and Antiparticles"
   ]
  },
  {
   "cell_type": "markdown",
   "metadata": {},
   "source": [
    "| Particle and symbol             | proton charge | Antiparticle and symbol               | antiparticle proton charge | Rest energy (MeV) | Interaction                                |\n",
    "|---------------------------------|---------------|---------------------------------------|----------------------------|-------------------|--------------------------------------------|\n",
    "| proton p                        | +1            | antiproton $\\bar{p}$                  | -1                         | 938               | strong, weak, electromagnetic              |\n",
    "| neutron n                       | 0             | antineutron $\\bar{n}$                 | 0                          | 939               | strong, weak                               |\n",
    "| electron $e^-$                  | -1            | positron $e^+$                        | +1                         | 0.511             | weak, electromagnetic                      |\n",
    "| neutrino $v$                    | 0             | antineutrino $\\bar{v}$                | 0                          | 0                 | weak                                       |\n",
    "| muon $\\mu^-$                     | -1            | antimuon $\\mu^+$                     | +1                         | 106               | weak, electromagnetic                      |\n",
    "| pions $\\pi^+$, $\\pi^0$, $\\pi^-$ | +1, 0, -1     | $\\pi^-$, $\\pi^0$, $\\pi^+$ respectively | -1, 0, +1                  | 140, 135, 140     | strong, electromagnetic ($\\pi^+$, $\\pi^-$) |\n",
    "| kaons $K^+$, $K^0$, $K^-$       | +1, 0, -1     |                                       | -1, 0, +1                  | 494, 498, 494     | strong, electromagnetic ($K^+$, $K^-$)     |"
   ]
  },
  {
   "cell_type": "markdown",
   "metadata": {},
   "source": [
    "##### Hadrons: particles/antiparticles which interact through strong interaction\n",
    "- protons, neutrons, pions, kaons\n",
    "- can interact through all 4 fundamental interactions\n",
    "- **strong interaction**\n",
    "- electromagnetic interaction if charged\n",
    "- hadrons decay through weak interaction, except proton which is stable\n",
    "\n",
    "##### Leptons: particles/antiparticles which do not interact through strong interaction\n",
    "- electrons, muons, neutrinos (and antiparticles)\n",
    "- interact through weak interaction\n",
    "- gravitational interaction\n",
    "- electromagnetic interaction if charged"
   ]
  },
  {
   "cell_type": "markdown",
   "metadata": {},
   "source": [
    "#### Baryons and Mesons\n",
    "\n",
    "##### Baryons:\n",
    "- hadrons which decay into protons, directly or indirectly\n",
    "- possibly created with kaons\n",
    "- short lived particles\n",
    "- antibaryons are the antiparticles of baryons\n",
    "- rest mass > protons\n",
    "- proton is the only stable baryon (all others decay into it)\n",
    "\n",
    "##### Mesons:\n",
    "- hadrons which don't include protons in decay product\n",
    "- kaons and pions are mesons\n",
    "\n",
    "Both these groups are composed of smaller particles called **quarks** and **antiquarks**"
   ]
  },
  {
   "cell_type": "markdown",
   "metadata": {},
   "source": [
    "##### Baryon Number\n",
    "\n",
    "- A quantum number equal to baryons - antibaryons in system of subatomic particles\n",
    "- Baryon = +1\n",
    "- AntiBaryon = -1\n",
    "- quarks = $+\\frac{1}{3}$\n",
    "- antiquarks = $-\\frac{1}{3}$\n",
    "- baryons contain 3 quarks\n",
    "- anything else = 0\n",
    "- conservation of baryon number\n",
    "- baryon number before reaction = baryon number after reaction"
   ]
  },
  {
   "cell_type": "markdown",
   "metadata": {},
   "source": [
    "#### Lepton Number\n",
    "\n",
    "- A quantum number equal to leptons - antileptons in system of subatomic particles\n",
    "- lepton = +1\n",
    "- antilepton = -1\n",
    "- anything else = 0\n",
    "- conservation of lepton number:\n",
    "- lepton number before reaction = lepton number after reaction"
   ]
  },
  {
   "cell_type": "markdown",
   "metadata": {},
   "source": [
    "#### Particles:\n",
    "\n",
    "- cosmic rays protons/small nuclei collide with gas atoms in atmosphere\n",
    "- creating showers of short lived particles and antiparticles\n",
    "\n",
    "##### Muon:\n",
    "- heavy electron\n",
    "- symbol $\\mu^-$\n",
    "- muon rest mass > $200\\times$ electron rest mass\n",
    "- **muons decay into:**\n",
    "  - electron and antineutrino\n",
    "  - antimuons decay into: positron and a neutrino\n",
    "  - through weak interaction\n",
    "\n",
    "##### Pion ($\\pi$ meson):\n",
    "- symbol $\\pi$\n",
    "- can be: $\\pi^+$, $\\pi^-$ or $\\pi^0$\n",
    "- muon rest mass < **pion** rest mass < proton rest mass\n",
    "- exchange particle in strong interaction\n",
    "- **charged pions decay into:**\n",
    "  - muon and an antineutrino\n",
    "  - or an antimuon and neutrino\n",
    "  - a $\\pi^0$ meson decays into high energy photons\n",
    "  - through \n",
    "\n",
    "##### Kaon (K meson):\n",
    "- symbol $K$\n",
    "- can be: $K^+$, $K^-$ or $K^0$\n",
    "- pion rest mass < **kaon** rest mass < proton rest mass\n",
    "- produced in 2's through strong interaction like pions\n",
    "- **kaons decay into:**\n",
    "  - pions\n",
    "  - or muon and an antineutrino\n",
    "  - or antimuon and a neutrino\n",
    "  - through weak interaction"
   ]
  },
  {
   "cell_type": "markdown",
   "metadata": {},
   "source": [
    "### Leptons"
   ]
  },
  {
   "cell_type": "markdown",
   "metadata": {},
   "source": [
    "#### Lepton collisions\n",
    "\n",
    "- leptons and antileptons can produce hadrons\n",
    "- eg. electron-positron interaction annihilation\n",
    "- produces quark and corresponding antiquark\n",
    "- which move in opposite directions\n",
    "- producing shower of hadrons in each direction"
   ]
  },
  {
   "cell_type": "markdown",
   "metadata": {},
   "source": [
    "#### Neutrino types\n",
    "\n",
    "- neutrinos/antineutrinos produced in beta decay $\\not=$ those produced in muon decay\n",
    "- muon decay: creates muons and no electrons when interacting with protons and neutrons\n",
    "- beta decay: creates neutrino and electrons\n",
    "- must be 2 types otherwise they would've created the same # of electrons and muons\n",
    "- muon neutrino = $v_{\\mu}$\n",
    "- electron neutrino = $v_e$"
   ]
  },
  {
   "cell_type": "markdown",
   "metadata": {},
   "source": [
    "#### Lepton rules\n",
    "\n",
    "- can change into other leptons through weak interaction\n",
    "- can be produced or annihilated in particle-antiparticle interactions\n",
    "\n",
    "1.Interaction between lepton and hadron\n",
    "  - neutrino/antineutrino $\\to$ corresponding charged lepton\n",
    "  - electron neutrino can interact with neutron to produce a proton and an electron\n",
    "  - $v^e + n \\to p + e^-$\n",
    "  - $v^e + n \\not\\to \\bar{p} + e^+$\n",
    "  - lepton number:\n",
    "  - +1 for lepton\n",
    "  - -1 for antilepton\n",
    "  - 0 for non lepton\n",
    "  - the lepton number must be the same before and after\n",
    "  \n",
    "2.Muon decay\n",
    "  - muon $\\to$ muon neutrino\n",
    "  - electron created to conserve charge\n",
    "  - corresponding antineutrino created to conserve lepton number\n",
    "  - $\\mu^- \\to e^- + \\bar{v}_e + v_{\\mu}$\n",
    "  - muon can't decay into muon antineutrino, electron and an electron antineutrino\n",
    "  - $\\mu^- \\not\\to e^- + \\bar{v}_e + \\bar{v}_{\\mu}$\n",
    "  - because the lepton number isn't conserved\n",
    "  \n",
    "3.Electron and muon neutrinos\n",
    "  - $\\mu^- \\not\\to e^- + v_e + \\bar{v}_{\\mu}$\n",
    "  - moun can only change to $v_{\\mu}$\n",
    "  - $\\mu^- \\not\\to \\bar{v}_{\\mu}$\n",
    "  - electron can only be created with electron antineutrino\n",
    "  - +1 for lepton, -1 for antilepton, 0 for non lepton needs to applied seperately to electron and muon neutrinos\n",
    "  \n",
    "##### The lepton number is conserved in any change"
   ]
  },
  {
   "cell_type": "markdown",
   "metadata": {},
   "source": [
    "#### Strange Particles\n",
    "\n",
    "- produced through strong interaction\n",
    "- produced in pairs\n",
    "- decay through weak interaction\n",
    "- eg. kaons\n",
    "- kaons decay into: pions\n",
    "- $Sigma$ decays into: protons and pions (in sequence or directly)\n",
    "- $Sigma$ has different rest mass > protons rest mass\n",
    "\n",
    "#### Strangness number (S):\n",
    "\n",
    "- for each particle and antiparticle\n",
    "- strangeness is always conserved in strong interaction\n",
    "- can change by -1, 0 or +1 in weak interaction\n",
    "- with s = +1 for $K^+$\n",
    "- $\\pi^- + p \\to K^+ + \\Sigma^-$\n",
    "- $\\pi^+ + n \\to K^+ + \\Sigma^0$\n",
    "- $\\pi^- + n \\to K^0 + \\Sigma^-$\n",
    "- $\\pi^- + n \\to K^- + \\Sigma^0$ (not observed)\n",
    "- this shows us that:\n",
    "- s = -1 for $\\Sigma^-$\n",
    "- s = -1 for $\\Sigma^0$\n",
    "- s = +1 for $K^0$\n",
    "- since reaction 4 not observed, s $\\not=$ +1 for $K^-$"
   ]
  },
  {
   "cell_type": "markdown",
   "metadata": {},
   "source": [
    "<a id='energy_in_collisions'></a>"
   ]
  },
  {
   "cell_type": "markdown",
   "metadata": {},
   "source": [
    "##### Energy in collisions (conservation of energy):\n",
    "- total energy of particles/antiparticles = their rest energy + their kinetic energy\n",
    "- total energy of **new** particles/antiparticles = their rest energy + their kinetic energy\n",
    "\n",
    "rest energy of products = total energy before - the kinetic energy of products"
   ]
  },
  {
   "cell_type": "markdown",
   "metadata": {},
   "source": [
    "### Quarks and antiquarks"
   ]
  },
  {
   "cell_type": "markdown",
   "metadata": {
    "collapsed": true
   },
   "source": [
    "quarks and antiquarks in hadrons:\n",
    "- charge, strangeness and rest mass\n",
    "- 3 types for this course:\n",
    "- up(u)\n",
    "- down(d)\n",
    "- strange quarks(s)\n",
    "\n",
    "|                  | Quarks         |                |                | Antiquarks     |                 |                    |\n",
    "|------------------|----------------|----------------|----------------|----------------|-----------------|--------------------|\n",
    "|                  | up(u)          | down(u)        | strange(s)     | up($\\bar{u}$)  | down($\\bar{d}$) | strange($\\bar{s}$) |\n",
    "| charge(Q)        | $+\\frac{2}{3}$ | $-\\frac{1}{3}$ | $-\\frac{1}{3}$ | $-\\frac{2}{3}$ | $+\\frac{1}{3}$  | $+\\frac{1}{3}$     |\n",
    "| strangeness(S)   | 0              | 0              | -1             | 0              | 0               | +1                 |\n",
    "| baryon number(B) | $+\\frac{1}{3}$ | $+\\frac{1}{3}$ | $+\\frac{1}{3}$ | $-\\frac{1}{3}$ | $-\\frac{1}{3}$  | $-\\frac{1}{3}$     |"
   ]
  },
  {
   "cell_type": "markdown",
   "metadata": {},
   "source": [
    "#### Quark Combinations\n",
    "\n",
    "##### Mesons:\n",
    "- each contain a quark and an antiquark\n",
    "- the antiparticle of a meson is an antiquark-quark pair so also a meson\n",
    "\n",
    "<img src=\"img/meson_combinations.png\" alt=\"meson_combinations\" style=\"width: 200px;\"/>\n",
    "\n",
    "##### Baryons:\n",
    "- 3 quarks for baryon\n",
    "- 3 antiquarks for antibaryon\n",
    "- proton = $uud$\n",
    "- neutron = $udd$\n",
    "- antiproton = $\\bar{u}\\bar{u}\\bar{d}$\n",
    "- $\\Sigma$ = baryon containing strange quark\n",
    "- proton only stable, neutron will decay into proton, releasing electron and electron antineutrino"
   ]
  },
  {
   "cell_type": "markdown",
   "metadata": {},
   "source": [
    "##### Quarks and beta decay\n",
    "\n",
    "- in $\\beta^-$ decay, neutron $\\to$ proton releasing electron and electron antineutrino\n",
    "- in quarks terms, down quark $\\to$ up quark\n",
    "- in $\\beta^+$ decay, proton $\\to$ neutron releasing positron and electron antineutrino\n",
    "- in quarks terms, up quark $\\to$ down quark\n",
    "\n",
    "<img src=\"img/beta_negative_decay.png\" alt=\"Beta_Negative_Decay\" style=\"width: 200px;\"/>"
   ]
  },
  {
   "cell_type": "markdown",
   "metadata": {
    "collapsed": true
   },
   "source": [
    "### Conservation Rules"
   ]
  },
  {
   "cell_type": "markdown",
   "metadata": {},
   "source": [
    "##### Energy and momentum is conserved in interactions"
   ]
  },
  {
   "cell_type": "markdown",
   "metadata": {},
   "source": [
    "#### Particles and properties\n",
    "\n",
    "##### Conservation of energy and conservation of charge:\n",
    "- apply to all changes\n",
    "- conservation of energy includes rest energy (see [energy in collisions](#energy_in_collisions))\n",
    "\n",
    "##### Conservation rules for particle/antiparticle interactions and decays\n",
    "- particle counting rules\n",
    "- based on what reactions observed and what reactions not observed"
   ]
  },
  {
   "cell_type": "markdown",
   "metadata": {},
   "source": [
    "#### Baryon conservation\n",
    "\n",
    "- $p + \\bar{p} \\to \\pi^+ + \\pi^-$ (observed)\n",
    "\n",
    "- $p + \\bar{p} \\to p + \\pi^-$ (not observed)\n",
    "\n",
    "if we split them into quarks/antiquarks\n",
    "\n",
    "- $uud + \\bar{u}\\bar{u}\\bar{d} \\to u\\bar{d} + \\bar{u}d$ (observed)\n",
    "\n",
    "- $uud + \\bar{u}\\bar{u}\\bar{d} \\to uud + \\bar{u}d$ (not observed)\n",
    "\n",
    "with $+\\frac{1}{3}$ for quarks, and $-\\frac{1}{3}$ for antiquarks\n",
    "\n",
    "with the observed one:\n",
    "- $0 \\to 0$\n",
    "\n",
    "with the non observed one:\n",
    "- $0 \\to 3$\n",
    "\n",
    "##### the total baryon number must stay the same"
   ]
  },
  {
   "cell_type": "markdown",
   "metadata": {},
   "source": [
    "## Electromagnetic radiation and quantum phenomena"
   ]
  },
  {
   "cell_type": "markdown",
   "metadata": {},
   "source": [
    "### The Photoelectric effect"
   ]
  },
  {
   "cell_type": "markdown",
   "metadata": {},
   "source": [
    "#### Discovery\n",
    "- when radio waves being transmitted:\n",
    "- sparks produced in spark gap detector\n",
    "- were stronger when ultraviolet radiation was directed at the spark gap\n",
    "- when electromagnetic radiation > certain frequency was directed at metal\n",
    "- electrons were emitted from surface of the metal"
   ]
  },
  {
   "cell_type": "markdown",
   "metadata": {},
   "source": [
    "#### Problems\n",
    "- photoelectric emission of electrons doesn't work if frequency < threshold frequency\n",
    "- min frequency (threshold frequency) depends on type of metal\n",
    "- wavelength of incident light must be < max value\n",
    "- wavelength max value = $\\frac{c}{f}$ with f as threshold frequency\n",
    "- provided f > threshold frequency:\n",
    "- num electrons emitted per second $\\propto$ intensity of incident radiation\n",
    "- no delay (regardless to intensity)\n",
    "- wave theory of light cant explain:\n",
    "- threshold frequency\n",
    "- and why no delay\n",
    "- wave theory states conduction electrons should gin energy no matter waves per second"
   ]
  },
  {
   "cell_type": "markdown",
   "metadata": {},
   "source": [
    "#### Photon theory of light\n",
    "- light composed of photons(wave packets)\n",
    "- **Energy of Photon = $hf$**\n",
    "- where h = Planck constant ($6.63\\times10^{-34}$), and f = frequency of light\n",
    "- For electromagnetic waves:\n",
    "- **Energy of Photon = $\\frac{hc}{\\lambda}$**\n",
    "\n",
    "##### energy:\n",
    "- when light is incident on metal surface,\n",
    "- electron at surface absorbs a photon from light\n",
    "- $\\therefore$ gains energy = hf, where hf = energy of photon \n",
    "- electron can leave metal surface if:\n",
    "- energy gained from single photon > work function of metal ($\\phi$)\n",
    "- excess energy becomes kinetic energy\n",
    "\n",
    "##### Max kinetic energy = $E_{Kmax} = hf - \\phi$\n",
    "or $hf = E_{Kmax} + \\phi$ rearranged\n",
    "\n",
    "This means that it can only take place if $hf > \\phi$\n",
    "\n",
    "$\\therefore$ threshold frequency = $f_{min} = \\frac{\\phi}{h}$\n",
    "\n",
    "##### Stopping potential:\n",
    "- electrons can be attracted back if metal has sufficient pos charge\n",
    "- min potential is called stopping potential ($V_s$)\n",
    "- at this potential, kinetic energy of electron = 0\n",
    "- because electron must do extra work equal to $e\\times V_s$ to leave metal\n",
    "- hence, max kinetic energy = $e\\times V_s$"
   ]
  },
  {
   "cell_type": "markdown",
   "metadata": {},
   "source": [
    "### Collisions of electrons with atoms"
   ]
  },
  {
   "cell_type": "markdown",
   "metadata": {},
   "source": [
    "#### Ionisation\n",
    "\n",
    "##### Creating ions is called ionisation:\n",
    "- eg. $\\alpha$, $\\beta$ and $\\gamma$ radiation creates ions when colliding with atoms\n",
    "- eg. electrons passing through fluorescent tube create ions when they collide with atoms of the gas/vapour in tube\n",
    "\n",
    "#### Excitation by collision\n",
    "- with gas filled tubes with metal grid between filament and anode\n",
    "- gas atoms can absorb energy from colliding with electrons without being ionised\n",
    "- this is called **excitation**\n",
    "- happens at certain energies, which are characteristic of the atoms of the gas\n",
    "- if colliding electron loses all kinetic energy, current is reduced\n",
    "- if the colliding electron energy is too low to cause excitation, it deflects without overall loss of kinetic energy\n",
    "\n",
    "##### Excitation energy\n",
    "- excitation energies are energy values where atom absorbs energy\n",
    "- can determine by increasing pd between filament and anode\n",
    "- measuring pd when anode current falls\n",
    "\n",
    "- colliding electron moves electron from inner shell to outer\n",
    "- energy needed to move atomic electron away from nucleus\n",
    "- excitation energy < ionisation energy, because atom is not removed from atom"
   ]
  },
  {
   "cell_type": "markdown",
   "metadata": {},
   "source": [
    "#### The Electron Volt(eV)\n",
    "\n",
    "- unit of energy = to work done when electron moved through 1V\n",
    "- for charge q moved through pd V, work done = pV\n",
    "- $\\therefore$ work done when electron moved through 1V = $1.6\\times 10^{-19}J$\n",
    "- this amount of energy is defined as 1 electron volt (eV)\n",
    "- eg. ion of charge +2e moving through 10V, energy = 20eV"
   ]
  }
 ],
 "metadata": {
  "kernelspec": {
   "display_name": "Python 2",
   "language": "python",
   "name": "python2"
  },
  "language_info": {
   "codemirror_mode": {
    "name": "ipython",
    "version": 2
   },
   "file_extension": ".py",
   "mimetype": "text/x-python",
   "name": "python",
   "nbconvert_exporter": "python",
   "pygments_lexer": "ipython2",
   "version": "2.7.12"
  }
 },
 "nbformat": 4,
 "nbformat_minor": 2
}
