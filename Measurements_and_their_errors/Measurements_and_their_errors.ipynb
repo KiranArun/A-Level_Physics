{
 "cells": [
  {
   "cell_type": "markdown",
   "metadata": {},
   "source": [
    "# Measurements_and_their_errors"
   ]
  },
  {
   "cell_type": "code",
   "execution_count": 100,
   "metadata": {
    "collapsed": true
   },
   "outputs": [],
   "source": [
    "import numpy as np\n",
    "import matplotlib.pyplot as plt"
   ]
  },
  {
   "cell_type": "markdown",
   "metadata": {},
   "source": [
    "## Contents\n",
    "\n",
    "1.[Base Units](#Base_Units)\n",
    "\n",
    "2.[Derived Units](#Derived_Units)\n",
    "- [List of ones with special names](#List_of_ones_with_special_names)\n",
    "\n",
    "3.[Prefixes](#Prefixes)\n",
    "\n",
    "4.[Physical Measurements](#Physical_Measurements)\n",
    "- [Errors](#Errors)\n",
    "- [Measurements](#Measurements)"
   ]
  },
  {
   "cell_type": "markdown",
   "metadata": {},
   "source": [
    "<a id='Base_Units'></a>\n",
    "## Base Units"
   ]
  },
  {
   "cell_type": "markdown",
   "metadata": {},
   "source": [
    "- these are globally agreed systems of units\n",
    "- they can also be called SI base units (Système International d'Unités)\n",
    "- there are 7\n",
    "- lower-case symbols unless named after person\n",
    "- form set of mutually independent dimensions\n",
    "\n",
    "#### Ampere (A)\n",
    "- electrical current\n",
    "\n",
    "#### Candela (cd)\n",
    "- luminous intensity\n",
    "\n",
    "#### Kelvin (K)\n",
    "- thermodynamic temperature\n",
    "\n",
    "#### Kilogram (kg)\n",
    "- mass\n",
    "\n",
    "#### Metre (m)\n",
    "- length\n",
    "\n",
    "#### Mole (mol)\n",
    "- amount of substance\n",
    "\n",
    "#### Second (s)\n",
    "- time"
   ]
  },
  {
   "cell_type": "markdown",
   "metadata": {},
   "source": [
    "<a id='Derived_Units'></a>\n",
    "## Derived Units"
   ]
  },
  {
   "cell_type": "markdown",
   "metadata": {},
   "source": [
    "- These are units are derived from base units\n",
    "- either dimensionless, expressed as product of one or more of the base units, possibly scaled by appropriate power of exponentiation\n",
    "- 22 units with special names\n",
    "- many units don't (eg. $m^2$)\n",
    "- for Equivalents and SI equivalents, go [here](https://en.wikipedia.org/wiki/SI_derived_unit) \n",
    "\n",
    "<a id='List_of_ones_with_special_names'></a>\n",
    "### List of ones with special names\n",
    "\n",
    "#### hertz (Hz)\n",
    "- frequency\n",
    "\n",
    "#### radian (rad)\n",
    "- angle\n",
    "\n",
    "#### steradian (sr)\n",
    "- solid angle\n",
    "\n",
    "#### newton (N)\n",
    "- force, weight\n",
    "\n",
    "#### pascal (Pa)\n",
    "- pressure, stress\n",
    "\n",
    "#### joule (J)\n",
    "- energy, work, heat\n",
    "\n",
    "#### watt (W)\n",
    "- power, radiant flux\n",
    "\n",
    "#### coulomb (C)\n",
    "- electric charge or quantity of electricity\n",
    "\n",
    "#### volt (V)\n",
    "- voltage, electrical potential difference, electromotive force\n",
    "\n",
    "#### farad (F)\n",
    "- electrical capacitance\t\n",
    "\n",
    "#### ohm ($\\Omega$)\n",
    "- electrical resistance, impedance, reactance\n",
    "\n",
    "#### siemens (S)\n",
    "- electrical conductance\t\n",
    "\n",
    "#### weber (Wb)\n",
    "- magnetic flux\t\n",
    "\n",
    "#### tesla (T)\n",
    "- magnetic field strength, magnetic flux density\n",
    "\n",
    "#### henry (H)\n",
    "- electrical inductance\t\n",
    "\n",
    "#### degree celsius ($^{\\circ} C$)\n",
    "- temperature relative to 273.15 K\n",
    "\n",
    "#### lumen (lm)\n",
    "- luminous flux\n",
    "\n",
    "#### lux (lx)\n",
    "- illuminance\n",
    "\n",
    "#### becquerel (Bq)\n",
    "- radioactivity (decays per unit time)\n",
    "\n",
    "#### gray (Gy)\n",
    "- absorbed dose (of ionizing radiation)\n",
    "\n",
    "#### sievert (Sv)\n",
    "- equivalent dose (of ionizing radiation)\n",
    "\n",
    "#### katal (kat)\n",
    "- catalytic activity"
   ]
  },
  {
   "cell_type": "markdown",
   "metadata": {},
   "source": [
    "<a id='Prefixes'></a>\n",
    "## Prefixes"
   ]
  },
  {
   "cell_type": "markdown",
   "metadata": {},
   "source": [
    "| Symbol | Prefix | Value      |\n",
    "|--------|--------|------------|\n",
    "| E      | exa    | $10^{18}$  |\n",
    "| P      | peta   | $10^{15}$  |\n",
    "| T      | tera   | $10^{12}$  |\n",
    "| G      | giga   | $10^{9}$   |\n",
    "| M      | mega   | $10^{6}$   |\n",
    "| k      | kilo   | $10^{3}$   |\n",
    "| h      | hecto  | $10^{2}$   |\n",
    "| da     | deka   | $10$       |\n",
    "| d      | deci   | $10^{-1}$  |\n",
    "| c      | centi  | $10^{-2}$  |\n",
    "| m      | milli  | $10^{-3}$  |\n",
    "| $\\mu$  | micro  | $10^{-6}$  |\n",
    "| n      | nano   | $10^{-9}$  |\n",
    "| p      | pico   | $10^{-12}$ |\n",
    "| f      | femto  | $10^{-15}$ |\n",
    "| a      | atto   | $10^{-18}$ |"
   ]
  },
  {
   "cell_type": "markdown",
   "metadata": {},
   "source": [
    "<a id='Physical_Measurements'></a>\n",
    "## Physical Measurements"
   ]
  },
  {
   "cell_type": "markdown",
   "metadata": {},
   "source": [
    "<a id='Errors'></a>\n",
    "### Errors\n",
    "\n",
    "#### The error is the differences between the values and the mean value\n",
    "\n",
    "- range: difference between min and max measurement\n",
    "- systematic errors: differences with a pattern\n",
    "- random errors: differences without a pattern\n",
    "- $a \\pm b$\n",
    "- with $a$ as the mean and $b$ as the greatest difference\n",
    "\n",
    "<a id='Measurements'></a>\n",
    "### Measurements\n",
    "\n",
    "#### Precision: degree of exactness of measurement\n",
    " - extent of random errors (range)\n",
    " - when reading fluctuates, use multiple readings\n",
    " - when reading is constant, estimate precision\n",
    " - precision $\\not=$ accuracy because systematic errors affect precision\n",
    " \n",
    "#### Repeatability: same result obtained if:\n",
    " - same experimenter\n",
    " - same equipment\n",
    " - same method\n",
    " \n",
    "#### Reproducibility: same result obtained if:\n",
    " - different experimenter\n",
    " - or different equipment\n",
    " - or different technique\n",
    " \n",
    "#### Accuracy: measure of confidence in measurement\n",
    " - an accurate measurement is close to the accepted value\n",
    " - expressed as uncertainty of measurement\n",
    " \n",
    "#### linearity: reading is directly proportional to value reading is measuring\n",
    " \n",
    "#### Uncertainty: interval in which the true value is expected to lie\n",
    " - $a \\pm b$\n",
    " - b is the uncertainty\n",
    " - if readings are the same, instrument precision should be used\n",
    " - uncertainty can be given as absolute, fractional or percentage\n",
    " - absolute eg. $I = 3.6 \\pm 0.1 A$\n",
    " - fractional eg. $I = 3.6 \\pm 0.1 A$ uncertainty: 0.028% (uncertainty/mean as fraction or decimal)\n",
    " - percentage eg. $I = 3.6 \\pm 0.1 A$ uncertainty: 2.8% (uncertainty/mean as percentage)\n",
    " \n",
    "#### Experimental uncertainties:\n",
    "when adding or subtracting values, combine main value and uncertainty separately\n",
    "- eg. $3.6 \\pm 0.2 + 1.2 \\pm 0.02 = 4.8 \\pm 0.22$\n",
    "\n",
    "when multiplying, dividing or dealing with power values, combine main value and add percentage uncertainty\n",
    "- eg. $3.6 \\pm 0.2 \\times 1.2 \\pm 0.02 = 4.32$\n",
    "- $\\frac{0.2}{3.6} = \\frac{1}{18} \\times 100 = \\frac{50}{9}\\%$\n",
    "- $\\frac{0.02}{1.2} = \\frac{1}{60} \\times 100 = \\frac{15}{9}\\%$\n",
    "- $= 4.32 \\pm 7.2\\%$\n",
    "\n",
    "if raising value to power n, multiply percentage uncertainty by n\n",
    "\n",
    "error bars example below:\n",
    "- only need to plot first and last error bars\n",
    "- error bars with worst uncertainty\n",
    "- axis with worst uncertainty"
   ]
  },
  {
   "cell_type": "code",
   "execution_count": 101,
   "metadata": {},
   "outputs": [
    {
     "data": {
      "image/png": "[encoded data removed]",
      "text/plain": [
       "<matplotlib.figure.Figure at 0x7f35198c41d0>"
      ]
     },
     "metadata": {},
     "output_type": "display_data"
    }
   ],
   "source": [
    "x = np.linspace(0, 1, 4)\n",
    "y = np.exp(x)\n",
    "\n",
    "yerr = 0.1 + 0.08*np.sqrt(x)\n",
    "xerr = 0.1 + yerr\n",
    "\n",
    "fig, ax = plt.subplots()\n",
    "ax.errorbar(x, y, xerr=xerr, yerr=yerr, color='red', linestyle='-', ecolor='b')\n",
    "\n",
    "ax.set_title(\"error bar example\")\n",
    "ax.grid(True)\n",
    "\n",
    "\n",
    "plt.show()"
   ]
  },
  {
   "cell_type": "markdown",
   "metadata": {},
   "source": [
    "#### Gradient Uncertainty\n",
    "\n",
    "On a graph, we:\n",
    "- draw the main line\n",
    "- draw the error bars\n",
    "- draw a line which fit in the error bars area of maximum gradient\n",
    "- draw a line which fit in the error bars area of minimum gradient\n",
    "- compare the gradients to the optimal line\n",
    "\n",
    "#### Intercept Uncertainty\n",
    "\n",
    "The same as gradient uncertainty but instead comparing the y intercept"
   ]
  },
  {
   "cell_type": "code",
   "execution_count": 102,
   "metadata": {},
   "outputs": [
    {
     "data": {
      "image/png": "[encoded data removed]",
      "text/plain": [
       "<matplotlib.figure.Figure at 0x7f35191b8890>"
      ]
     },
     "metadata": {},
     "output_type": "display_data"
    }
   ],
   "source": [
    "x = np.linspace(1, 4, 3)\n",
    "\n",
    "x2 = np.linspace(0, 5, 5)\n",
    "\n",
    "def f(x):\n",
    "    return 2*x\n",
    "\n",
    "y = f(x)\n",
    "\n",
    "yerr = 0.9\n",
    "xerr = 0.1\n",
    "\n",
    "maxg = f(0.7*x)+1.5\n",
    "ming = f(1.3*x)-1.5\n",
    "\n",
    "maxi = f(0.7*x2)+1.5\n",
    "mini = f(1.3*x2)-1.5\n",
    "\n",
    "fig, ax = plt.subplots(1, 2, figsize=(15,7))\n",
    "\n",
    "ax[0].errorbar(x, y, xerr=xerr, yerr=yerr, color='red', linestyle='-', ecolor='b', label='optimal line')\n",
    "\n",
    "ax[0].plot([x[0]-xerr, x[1], x[-1]+xerr], maxg, label='min gradient')\n",
    "ax[0].plot([x[0]+xerr, x[1], x[-1]-xerr], ming, label='max gradient')\n",
    "\n",
    "ax[0].set_title(\"error bar gradient example\")\n",
    "\n",
    "ax[1].errorbar(x, y, xerr=xerr, yerr=yerr, color='red', linestyle='-', ecolor='b', label='optimal line')\n",
    "\n",
    "ax[1].plot(x2, maxi, label='max intercept')\n",
    "ax[1].plot(x2, mini, label='min intercept')\n",
    "\n",
    "ax[1].set_title(\"error bar intercept example\")\n",
    "\n",
    "for axes in ax:\n",
    "    axes.grid(True)\n",
    "    axes.legend()\n",
    "\n",
    "plt.show()"
   ]
  }
 ],
 "metadata": {
  "kernelspec": {
   "display_name": "Python 2",
   "language": "python",
   "name": "python2"
  },
  "language_info": {
   "codemirror_mode": {
    "name": "ipython",
    "version": 2
   },
   "file_extension": ".py",
   "mimetype": "text/x-python",
   "name": "python",
   "nbconvert_exporter": "python",
   "pygments_lexer": "ipython2",
   "version": "2.7.12"
  }
 },
 "nbformat": 4,
 "nbformat_minor": 2
}
